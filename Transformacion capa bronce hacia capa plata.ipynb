{
 "cells": [
  {
   "cell_type": "code",
   "execution_count": 0,
   "metadata": {
    "application/vnd.databricks.v1+cell": {
     "cellMetadata": {
      "byteLimit": 2048000,
      "rowLimit": 10000
     },
     "inputWidgets": {},
     "nuid": "9ef240cd-8c74-4efd-8fbf-031b005a2723",
     "showTitle": false,
     "tableResultSettingsMap": {},
     "title": ""
    }
   },
   "outputs": [
    {
     "output_type": "display_data",
     "data": {
      "text/html": [
       "<style scoped>\n",
       "  .ansiout {\n",
       "    display: block;\n",
       "    unicode-bidi: embed;\n",
       "    white-space: pre-wrap;\n",
       "    word-wrap: break-word;\n",
       "    word-break: break-all;\n",
       "    font-family: \"Menlo\", \"Monaco\", \"Consolas\", \"Ubuntu Mono\", \"Source Code Pro\", monospace;\n",
       "    font-size: 13px;\n",
       "    color: #555;\n",
       "    margin-left: 4px;\n",
       "    line-height: 19px;\n",
       "  }\n",
       "</style>\n",
       "<div class=\"ansiout\">storageAccount: String = acarrascol\n",
       "container: String = acarrascol\n",
       "sasKey: String = sv=2022-11-02&amp;ss=bfqt&amp;srt=sco&amp;sp=rwdlacupyx&amp;se=2024-12-30T08:22:50Z&amp;st=2024-12-08T00:22:50Z&amp;spr=https&amp;sig=8ticMMQjIXzBkCgrTq3uIoXl1kekg%2FGv%2BY6GCrh%2FxeE%3D\n",
       "conf: String = fs.azure.sas.acarrascol.acarrascol.blob.core.windows.net\n",
       "res8: Boolean = true\n",
       "</div>"
      ]
     },
     "metadata": {
      "application/vnd.databricks.v1+output": {
       "addedWidgets": {},
       "arguments": {},
       "data": "<div class=\"ansiout\">storageAccount: String = acarrascol\ncontainer: String = acarrascol\nsasKey: String = sv=2022-11-02&amp;ss=bfqt&amp;srt=sco&amp;sp=rwdlacupyx&amp;se=2024-12-30T08:22:50Z&amp;st=2024-12-08T00:22:50Z&amp;spr=https&amp;sig=8ticMMQjIXzBkCgrTq3uIoXl1kekg%2FGv%2BY6GCrh%2FxeE%3D\nconf: String = fs.azure.sas.acarrascol.acarrascol.blob.core.windows.net\nres8: Boolean = true\n</div>",
       "datasetInfos": [],
       "metadata": {
        "isDbfsCommandResult": false
       },
       "removedWidgets": [],
       "type": "html"
      }
     },
     "output_type": "display_data"
    }
   ],
   "source": [
    "%scala\n",
    "val storageAccount = \"acarrascol\" //nombre de la cuenta de almacenamiento\n",
    "val container = \"acarrascol\" //nombre del contenedor\n",
    "val sasKey = \"sv=2022-11-02&ss=bfqt&srt=sco&sp=rwdlacupyx&se=2024-12-30T08:22:50Z&st=2024-12-08T00:22:50Z&spr=https&sig=8ticMMQjIXzBkCgrTq3uIoXl1kekg%2FGv%2BY6GCrh%2FxeE%3D\" //llave de conexion\n",
    "\n",
    "val conf = \"fs.azure.sas.\" + container + \".\" + storageAccount + \".blob.core.windows.net\"\n",
    "\n",
    "// Check if the directory is already mounted\n",
    "if (dbutils.fs.mounts().map(_.mountPoint).contains(\"/mnt/\" + container)) {\n",
    "  dbutils.fs.unmount(\"/mnt/\" + container)\n",
    "}\n",
    "\n",
    "// Create mount\n",
    "dbutils.fs.mount(\n",
    "  source = \"wasbs://\" + container + \"@\" + storageAccount + \".blob.core.windows.net\",\n",
    "  mountPoint = \"/mnt/\" + container,\n",
    "  extraConfigs = Map(conf -> sasKey)\n",
    ")"
   ]
  },
  {
   "cell_type": "code",
   "execution_count": 0,
   "metadata": {
    "application/vnd.databricks.v1+cell": {
     "cellMetadata": {
      "byteLimit": 2048000,
      "implicitDf": true,
      "rowLimit": 10000
     },
     "inputWidgets": {},
     "nuid": "98a1502c-47e9-4f7c-87ed-af4b3b0f6645",
     "showTitle": false,
     "tableResultSettingsMap": {},
     "title": ""
    }
   },
   "outputs": [
    {
     "output_type": "display_data",
     "data": {
      "text/html": [
       "<style scoped>\n",
       "  .table-result-container {\n",
       "    max-height: 300px;\n",
       "    overflow: auto;\n",
       "  }\n",
       "  table, th, td {\n",
       "    border: 1px solid black;\n",
       "    border-collapse: collapse;\n",
       "  }\n",
       "  th, td {\n",
       "    padding: 5px;\n",
       "  }\n",
       "  th {\n",
       "    text-align: left;\n",
       "  }\n",
       "</style><div class='table-result-container'><table class='table-result'><thead style='background-color: white'><tr></tr></thead><tbody></tbody></table></div>"
      ]
     },
     "metadata": {
      "application/vnd.databricks.v1+output": {
       "addedWidgets": {},
       "aggData": [],
       "aggError": "",
       "aggOverflow": false,
       "aggSchema": [],
       "aggSeriesLimitReached": false,
       "aggType": "",
       "arguments": {},
       "columnCustomDisplayInfos": {},
       "data": [],
       "datasetInfos": [],
       "dbfsResultPath": null,
       "isJsonSchema": true,
       "metadata": {
        "dataframeName": null
       },
       "overflow": false,
       "plotOptions": {
        "customPlotOptions": {},
        "displayType": "table",
        "pivotAggregation": null,
        "pivotColumns": null,
        "xColumns": null,
        "yColumns": null
       },
       "removedWidgets": [],
       "schema": [],
       "type": "table"
      }
     },
     "output_type": "display_data"
    }
   ],
   "source": [
    "%sql\n",
    "--Ingesta archivo PRODUCTO.CSV\n",
    "\n",
    "--Eliminar tabla en caso exista\n",
    "DROP TABLE IF EXISTS Producto;\n",
    "\n",
    "CREATE TABLE Producto\n",
    "(Cod_Producto STRING, Nombre STRING, Cod_SubCategoria STRING, Color STRING)\n",
    "USING CSV\n",
    "OPTIONS (header 'true', inferSchema 'true', delimiter '|')\n",
    "LOCATION \"/mnt/acarrascol/proyectofinal/capabronce/Producto.csv\"\n"
   ]
  },
  {
   "cell_type": "code",
   "execution_count": 0,
   "metadata": {
    "application/vnd.databricks.v1+cell": {
     "cellMetadata": {
      "byteLimit": 2048000,
      "implicitDf": true,
      "rowLimit": 10000
     },
     "inputWidgets": {},
     "nuid": "c899eef0-7a7d-4647-8ffc-c0d5f5bfca1c",
     "showTitle": false,
     "tableResultSettingsMap": {},
     "title": ""
    }
   },
   "outputs": [
    {
     "output_type": "display_data",
     "data": {
      "text/html": [
       "<style scoped>\n",
       "  .table-result-container {\n",
       "    max-height: 300px;\n",
       "    overflow: auto;\n",
       "  }\n",
       "  table, th, td {\n",
       "    border: 1px solid black;\n",
       "    border-collapse: collapse;\n",
       "  }\n",
       "  th, td {\n",
       "    padding: 5px;\n",
       "  }\n",
       "  th {\n",
       "    text-align: left;\n",
       "  }\n",
       "</style><div class='table-result-container'><table class='table-result'><thead style='background-color: white'><tr></tr></thead><tbody></tbody></table></div>"
      ]
     },
     "metadata": {
      "application/vnd.databricks.v1+output": {
       "addedWidgets": {},
       "aggData": [],
       "aggError": "",
       "aggOverflow": false,
       "aggSchema": [],
       "aggSeriesLimitReached": false,
       "aggType": "",
       "arguments": {},
       "columnCustomDisplayInfos": {},
       "data": [],
       "datasetInfos": [],
       "dbfsResultPath": null,
       "isJsonSchema": true,
       "metadata": {
        "dataframeName": null
       },
       "overflow": false,
       "plotOptions": {
        "customPlotOptions": {},
        "displayType": "table",
        "pivotAggregation": null,
        "pivotColumns": null,
        "xColumns": null,
        "yColumns": null
       },
       "removedWidgets": [],
       "schema": [],
       "type": "table"
      }
     },
     "output_type": "display_data"
    }
   ],
   "source": [
    "%sql\n",
    "--Ingesta archivo CATEGORIA.CSV\n",
    "\n",
    "--Eliminar tabla en caso exista\n",
    "DROP TABLE IF EXISTS Categoria;\n",
    "\n",
    "CREATE TABLE Categoria\n",
    "(Cod_Categoria STRING, Nombre STRING)\n",
    "USING CSV\n",
    "OPTIONS (header 'true', inferSchema 'true', delimiter ',')\n",
    "LOCATION \"/mnt/acarrascol/proyectofinal/capabronce/Categoria.csv\""
   ]
  },
  {
   "cell_type": "code",
   "execution_count": 0,
   "metadata": {
    "application/vnd.databricks.v1+cell": {
     "cellMetadata": {
      "byteLimit": 2048000,
      "implicitDf": true,
      "rowLimit": 10000
     },
     "inputWidgets": {},
     "nuid": "cbee0187-6f6f-4f7c-838d-fc8cd36ae51b",
     "showTitle": false,
     "tableResultSettingsMap": {},
     "title": ""
    }
   },
   "outputs": [
    {
     "output_type": "display_data",
     "data": {
      "text/html": [
       "<style scoped>\n",
       "  .table-result-container {\n",
       "    max-height: 300px;\n",
       "    overflow: auto;\n",
       "  }\n",
       "  table, th, td {\n",
       "    border: 1px solid black;\n",
       "    border-collapse: collapse;\n",
       "  }\n",
       "  th, td {\n",
       "    padding: 5px;\n",
       "  }\n",
       "  th {\n",
       "    text-align: left;\n",
       "  }\n",
       "</style><div class='table-result-container'><table class='table-result'><thead style='background-color: white'><tr></tr></thead><tbody></tbody></table></div>"
      ]
     },
     "metadata": {
      "application/vnd.databricks.v1+output": {
       "addedWidgets": {},
       "aggData": [],
       "aggError": "",
       "aggOverflow": false,
       "aggSchema": [],
       "aggSeriesLimitReached": false,
       "aggType": "",
       "arguments": {},
       "columnCustomDisplayInfos": {},
       "data": [],
       "datasetInfos": [],
       "dbfsResultPath": null,
       "isJsonSchema": true,
       "metadata": {
        "dataframeName": null
       },
       "overflow": false,
       "plotOptions": {
        "customPlotOptions": {},
        "displayType": "table",
        "pivotAggregation": null,
        "pivotColumns": null,
        "xColumns": null,
        "yColumns": null
       },
       "removedWidgets": [],
       "schema": [],
       "type": "table"
      }
     },
     "output_type": "display_data"
    }
   ],
   "source": [
    "%sql\n",
    "--Ingesta archivo SUBCATEGORIA.CSV\n",
    "\n",
    "--Eliminar tabla en caso exista\n",
    "DROP TABLE IF EXISTS Subcategoria;\n",
    "\n",
    "CREATE TABLE Subcategoria\n",
    "(Cod_Subcategoria STRING, Nombre STRING, Cod_Categoria STRING)\n",
    "USING CSV\n",
    "OPTIONS (header 'true', inferSchema 'true', delimiter ',')\n",
    "LOCATION \"/mnt/acarrascol/proyectofinal/capabronce/Subcategoria.csv\""
   ]
  },
  {
   "cell_type": "code",
   "execution_count": 0,
   "metadata": {
    "application/vnd.databricks.v1+cell": {
     "cellMetadata": {
      "byteLimit": 2048000,
      "rowLimit": 10000
     },
     "inputWidgets": {},
     "nuid": "a7ee8be1-3f7d-4723-aeb8-f5928742881e",
     "showTitle": false,
     "tableResultSettingsMap": {},
     "title": ""
    }
   },
   "outputs": [],
   "source": [
    "dfProducto = spark.table(\"Producto\")\n",
    "dfProducto.write.mode(\"overwrite\").parquet(\"/mnt/acarrascol/proyectofinal/capaplata/Producto.parquet\")"
   ]
  },
  {
   "cell_type": "code",
   "execution_count": 0,
   "metadata": {
    "application/vnd.databricks.v1+cell": {
     "cellMetadata": {
      "byteLimit": 2048000,
      "rowLimit": 10000
     },
     "inputWidgets": {},
     "nuid": "68c9a328-ef51-4cfa-8293-88528bf61130",
     "showTitle": false,
     "tableResultSettingsMap": {},
     "title": ""
    }
   },
   "outputs": [],
   "source": [
    "dfProducto = spark.table(\"Categoria\")\n",
    "dfProducto.write.mode(\"overwrite\").parquet(\"/mnt/acarrascol/proyectofinal/capaplata/Categoria.parquet\")"
   ]
  },
  {
   "cell_type": "code",
   "execution_count": 0,
   "metadata": {
    "application/vnd.databricks.v1+cell": {
     "cellMetadata": {
      "byteLimit": 2048000,
      "rowLimit": 10000
     },
     "inputWidgets": {},
     "nuid": "9cb6b796-b4ad-4d25-a946-6fb56cc6b87d",
     "showTitle": false,
     "tableResultSettingsMap": {},
     "title": ""
    }
   },
   "outputs": [],
   "source": [
    "dfProducto = spark.table(\"SubCategoria\")\n",
    "dfProducto.write.mode(\"overwrite\").parquet(\"/mnt/acarrascol/proyectofinal/capaplata/SubCategoria.parquet\")"
   ]
  },
  {
   "cell_type": "code",
   "execution_count": 0,
   "metadata": {
    "application/vnd.databricks.v1+cell": {
     "cellMetadata": {
      "byteLimit": 2048000,
      "rowLimit": 10000
     },
     "inputWidgets": {},
     "nuid": "d32da0f9-2de0-4fab-a085-88b0d530bf81",
     "showTitle": false,
     "tableResultSettingsMap": {},
     "title": ""
    }
   },
   "outputs": [
    {
     "output_type": "stream",
     "name": "stdout",
     "output_type": "stream",
     "text": [
      "/mnt/acarrascol has been unmounted.\n"
     ]
    },
    {
     "output_type": "execute_result",
     "data": {
      "text/plain": [
       "True"
      ]
     },
     "execution_count": 8,
     "metadata": {},
     "output_type": "execute_result"
    }
   ],
   "source": [
    "#eliminar acceso directo\n",
    "dbutils.fs.unmount(\"/mnt/acarrascol\")"
   ]
  }
 ],
 "metadata": {
  "application/vnd.databricks.v1+notebook": {
   "dashboards": [],
   "environmentMetadata": {
    "base_environment": "",
    "client": "1"
   },
   "language": "python",
   "notebookMetadata": {
    "mostRecentlyExecutedCommandWithImplicitDF": {
     "commandId": 902870189914869,
     "dataframes": [
      "_sqldf"
     ]
    },
    "pythonIndentUnit": 4
   },
   "notebookName": "Transformacion capa bronce hacia capa plata",
   "widgets": {}
  },
  "language_info": {
   "name": "python"
  }
 },
 "nbformat": 4,
 "nbformat_minor": 0
}
