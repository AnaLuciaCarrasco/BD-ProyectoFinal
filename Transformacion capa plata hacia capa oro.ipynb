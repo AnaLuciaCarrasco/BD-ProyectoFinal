{
 "cells": [
  {
   "cell_type": "code",
   "execution_count": 0,
   "metadata": {
    "application/vnd.databricks.v1+cell": {
     "cellMetadata": {
      "byteLimit": 2048000,
      "rowLimit": 10000
     },
     "inputWidgets": {},
     "nuid": "5d1fcd95-a3ff-4a2d-a4ed-f31df736ec51",
     "showTitle": false,
     "tableResultSettingsMap": {},
     "title": ""
    }
   },
   "outputs": [
    {
     "output_type": "display_data",
     "data": {
      "text/html": [
       "<style scoped>\n",
       "  .ansiout {\n",
       "    display: block;\n",
       "    unicode-bidi: embed;\n",
       "    white-space: pre-wrap;\n",
       "    word-wrap: break-word;\n",
       "    word-break: break-all;\n",
       "    font-family: \"Menlo\", \"Monaco\", \"Consolas\", \"Ubuntu Mono\", \"Source Code Pro\", monospace;\n",
       "    font-size: 13px;\n",
       "    color: #555;\n",
       "    margin-left: 4px;\n",
       "    line-height: 19px;\n",
       "  }\n",
       "</style>\n",
       "<div class=\"ansiout\">storageAccount: String = acarrascol\n",
       "container: String = acarrascol\n",
       "sasKey: String = sv=2022-11-02&amp;ss=bfqt&amp;srt=sco&amp;sp=rwdlacupyx&amp;se=2024-12-31T10:09:24Z&amp;st=2024-12-08T02:09:24Z&amp;spr=https&amp;sig=%2F%2FUznJFJ458OUg%2FyT81FbLwIiv9tL1dg6uqWBq%2FbVb0%3D\n",
       "conf: String = fs.azure.sas.acarrascol.acarrascol.blob.core.windows.net\n",
       "res6: Boolean = true\n",
       "</div>"
      ]
     },
     "metadata": {
      "application/vnd.databricks.v1+output": {
       "addedWidgets": {},
       "arguments": {},
       "data": "<div class=\"ansiout\">storageAccount: String = acarrascol\ncontainer: String = acarrascol\nsasKey: String = sv=2022-11-02&amp;ss=bfqt&amp;srt=sco&amp;sp=rwdlacupyx&amp;se=2024-12-31T10:09:24Z&amp;st=2024-12-08T02:09:24Z&amp;spr=https&amp;sig=%2F%2FUznJFJ458OUg%2FyT81FbLwIiv9tL1dg6uqWBq%2FbVb0%3D\nconf: String = fs.azure.sas.acarrascol.acarrascol.blob.core.windows.net\nres6: Boolean = true\n</div>",
       "datasetInfos": [],
       "metadata": {
        "isDbfsCommandResult": false
       },
       "removedWidgets": [],
       "type": "html"
      }
     },
     "output_type": "display_data"
    }
   ],
   "source": [
    "%scala\n",
    "val storageAccount = \"acarrascol\" //nombre de la cuenta de almacenamiento\n",
    "val container = \"acarrascol\" //nombre del contenedor\n",
    "val sasKey = \"sv=2022-11-02&ss=bfqt&srt=sco&sp=rwdlacupyx&se=2024-12-31T10:09:24Z&st=2024-12-08T02:09:24Z&spr=https&sig=%2F%2FUznJFJ458OUg%2FyT81FbLwIiv9tL1dg6uqWBq%2FbVb0%3D\" //llave de conexion\n",
    "\n",
    "val conf = \"fs.azure.sas.\" + container + \".\" + storageAccount + \".blob.core.windows.net\"\n",
    "\n",
    "// Check if the directory is already mounted\n",
    "if (dbutils.fs.mounts().map(_.mountPoint).contains(\"/mnt/\" + container)) {\n",
    "  dbutils.fs.unmount(\"/mnt/\" + container)\n",
    "}\n",
    "\n",
    "// Create mount\n",
    "dbutils.fs.mount(\n",
    "  source = \"wasbs://\" + container + \"@\" + storageAccount + \".blob.core.windows.net\",\n",
    "  mountPoint = \"/mnt/\" + container,\n",
    "  extraConfigs = Map(conf -> sasKey)\n",
    ")"
   ]
  },
  {
   "cell_type": "code",
   "execution_count": 0,
   "metadata": {
    "application/vnd.databricks.v1+cell": {
     "cellMetadata": {
      "byteLimit": 2048000,
      "implicitDf": true,
      "rowLimit": 10000
     },
     "inputWidgets": {},
     "nuid": "aa43c547-ad4c-4cfb-9707-ede87e56e966",
     "showTitle": false,
     "tableResultSettingsMap": {},
     "title": ""
    }
   },
   "outputs": [
    {
     "output_type": "display_data",
     "data": {
      "text/html": [
       "<style scoped>\n",
       "  .table-result-container {\n",
       "    max-height: 300px;\n",
       "    overflow: auto;\n",
       "  }\n",
       "  table, th, td {\n",
       "    border: 1px solid black;\n",
       "    border-collapse: collapse;\n",
       "  }\n",
       "  th, td {\n",
       "    padding: 5px;\n",
       "  }\n",
       "  th {\n",
       "    text-align: left;\n",
       "  }\n",
       "</style><div class='table-result-container'><table class='table-result'><thead style='background-color: white'><tr></tr></thead><tbody></tbody></table></div>"
      ]
     },
     "metadata": {
      "application/vnd.databricks.v1+output": {
       "addedWidgets": {},
       "aggData": [],
       "aggError": "",
       "aggOverflow": false,
       "aggSchema": [],
       "aggSeriesLimitReached": false,
       "aggType": "",
       "arguments": {},
       "columnCustomDisplayInfos": {},
       "data": [],
       "datasetInfos": [],
       "dbfsResultPath": null,
       "isJsonSchema": true,
       "metadata": {
        "dataframeName": null
       },
       "overflow": false,
       "plotOptions": {
        "customPlotOptions": {},
        "displayType": "table",
        "pivotAggregation": null,
        "pivotColumns": null,
        "xColumns": null,
        "yColumns": null
       },
       "removedWidgets": [],
       "schema": [],
       "type": "table"
      }
     },
     "output_type": "display_data"
    }
   ],
   "source": [
    "%sql \n",
    "--Eliminar tabla en caso exista\n",
    "DROP TABLE IF EXISTS Producto;\n"
   ]
  },
  {
   "cell_type": "code",
   "execution_count": 0,
   "metadata": {
    "application/vnd.databricks.v1+cell": {
     "cellMetadata": {
      "byteLimit": 2048000,
      "implicitDf": true,
      "rowLimit": 10000
     },
     "inputWidgets": {},
     "nuid": "ec1a936e-e1c9-4289-8217-07125ec50e40",
     "showTitle": false,
     "tableResultSettingsMap": {},
     "title": ""
    }
   },
   "outputs": [],
   "source": [
    "\n",
    "##Ingesta archivo PRODUCTO .PARQUET\n",
    "\n",
    "producto = (spark.read.parquet(\"/mnt/acarrascol/proyectofinal/capaplata/Producto.parquet\"))\n",
    "producto.createOrReplaceTempView(\"s_producto\")"
   ]
  },
  {
   "cell_type": "code",
   "execution_count": 0,
   "metadata": {
    "application/vnd.databricks.v1+cell": {
     "cellMetadata": {
      "byteLimit": 2048000,
      "rowLimit": 10000
     },
     "inputWidgets": {},
     "nuid": "dc1836a7-af57-46ff-9b02-dc9b239d3da0",
     "showTitle": false,
     "tableResultSettingsMap": {},
     "title": ""
    }
   },
   "outputs": [],
   "source": [
    "## Ingesta archivo CATEGORIA.PARQUET\n",
    "categoria = (spark.read.parquet(\"/mnt/acarrascol/proyectofinal/capaplata/Categoria.parquet\"))\n",
    "categoria.createOrReplaceTempView(\"s_categoria\")"
   ]
  },
  {
   "cell_type": "code",
   "execution_count": 0,
   "metadata": {
    "application/vnd.databricks.v1+cell": {
     "cellMetadata": {
      "byteLimit": 2048000,
      "rowLimit": 10000
     },
     "inputWidgets": {},
     "nuid": "6a0d77f2-d55b-4021-a63a-9f40a2d4d067",
     "showTitle": false,
     "tableResultSettingsMap": {},
     "title": ""
    }
   },
   "outputs": [],
   "source": [
    "## Ingesta archivo SUBCATEGORIA.PARQUET\n",
    "subcategoria = (spark.read.parquet(\"/mnt/acarrascol/proyectofinal/capaplata/SubCategoria.parquet\"))\n",
    "subcategoria.createOrReplaceTempView(\"s_subcategoria\")"
   ]
  },
  {
   "cell_type": "code",
   "execution_count": 0,
   "metadata": {
    "application/vnd.databricks.v1+cell": {
     "cellMetadata": {
      "byteLimit": 2048000,
      "implicitDf": true,
      "rowLimit": 10000
     },
     "inputWidgets": {},
     "nuid": "c31d0d60-53b6-4473-947b-ae1991e9a537",
     "showTitle": false,
     "tableResultSettingsMap": {},
     "title": ""
    }
   },
   "outputs": [
    {
     "output_type": "display_data",
     "data": {
      "text/html": [
       "<style scoped>\n",
       "  .table-result-container {\n",
       "    max-height: 300px;\n",
       "    overflow: auto;\n",
       "  }\n",
       "  table, th, td {\n",
       "    border: 1px solid black;\n",
       "    border-collapse: collapse;\n",
       "  }\n",
       "  th, td {\n",
       "    padding: 5px;\n",
       "  }\n",
       "  th {\n",
       "    text-align: left;\n",
       "  }\n",
       "</style><div class='table-result-container'><table class='table-result'><thead style='background-color: white'><tr></tr></thead><tbody></tbody></table></div>"
      ]
     },
     "metadata": {
      "application/vnd.databricks.v1+output": {
       "addedWidgets": {},
       "aggData": [],
       "aggError": "",
       "aggOverflow": false,
       "aggSchema": [],
       "aggSeriesLimitReached": false,
       "aggType": "",
       "arguments": {},
       "columnCustomDisplayInfos": {},
       "data": [],
       "datasetInfos": [],
       "dbfsResultPath": null,
       "isJsonSchema": true,
       "metadata": {
        "dataframeName": null
       },
       "overflow": false,
       "plotOptions": {
        "customPlotOptions": {},
        "displayType": "table",
        "pivotAggregation": null,
        "pivotColumns": null,
        "xColumns": null,
        "yColumns": null
       },
       "removedWidgets": [],
       "schema": [],
       "type": "table"
      }
     },
     "output_type": "display_data"
    }
   ],
   "source": [
    "%sql\n",
    "\n",
    "--Eliminar tabla en caso exista\n",
    "DROP TABLE IF EXISTS Fact_Product;\n",
    "\n",
    "--CRear tabla\n",
    "CREATE TEMP VIEW Fact_Product\n",
    "AS\n",
    "SELECT P.Cod_Producto, P.Nombre AS Producto, S.Nombre AS SubCategoria, C.Nombre AS Categoria\n",
    "FROM s_producto P\n",
    "JOIN s_subcategoria S ON P.Cod_SubCategoria = S.Cod_SubCategoria\n",
    "JOIN s_categoria C ON S.Cod_Categoria = C.Cod_Categoria"
   ]
  },
  {
   "cell_type": "code",
   "execution_count": 0,
   "metadata": {
    "application/vnd.databricks.v1+cell": {
     "cellMetadata": {
      "byteLimit": 2048000,
      "rowLimit": 10000
     },
     "inputWidgets": {},
     "nuid": "caa5aaa0-621a-4e1c-99fc-0d6fd7034b85",
     "showTitle": false,
     "tableResultSettingsMap": {},
     "title": ""
    }
   },
   "outputs": [],
   "source": [
    "dfFactProducto = spark.table(\"Fact_Product\")\n",
    "dfFactProducto.write.mode(\"overwrite\").parquet(\"/mnt/acarrascol/proyectofinal/capaoro/FactProducto.parquet\")"
   ]
  },
  {
   "cell_type": "code",
   "execution_count": 0,
   "metadata": {
    "application/vnd.databricks.v1+cell": {
     "cellMetadata": {
      "byteLimit": 2048000,
      "rowLimit": 10000
     },
     "inputWidgets": {},
     "nuid": "0e2161a0-e745-4a12-b540-1c4354fcbcaf",
     "showTitle": false,
     "tableResultSettingsMap": {},
     "title": ""
    }
   },
   "outputs": [
    {
     "output_type": "execute_result",
     "data": {
      "text/plain": [
       "True"
      ]
     },
     "execution_count": 32,
     "metadata": {},
     "output_type": "execute_result"
    }
   ],
   "source": [
    "#eliminar acceso directo\n",
    "dbutils.fs.unmount(\"/mnt/acarrascol\")"
   ]
  }
 ],
 "metadata": {
  "application/vnd.databricks.v1+notebook": {
   "dashboards": [],
   "environmentMetadata": {
    "base_environment": "",
    "client": "1"
   },
   "language": "python",
   "notebookMetadata": {
    "mostRecentlyExecutedCommandWithImplicitDF": {
     "commandId": 548772448733251,
     "dataframes": [
      "_sqldf"
     ]
    },
    "pythonIndentUnit": 4
   },
   "notebookName": "Transformacion capa plata hacia capa oro",
   "widgets": {}
  },
  "language_info": {
   "name": "python"
  }
 },
 "nbformat": 4,
 "nbformat_minor": 0
}
